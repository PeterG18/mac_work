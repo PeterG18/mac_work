{
 "cells": [
  {
   "cell_type": "markdown",
   "id": "6944f28b-6bc5-4a49-b954-fab8cd49125e",
   "metadata": {},
   "source": [
    "# Research Question\n",
    "\n",
    "## How does the prevalence of asthma and Chronic Obstructive Pulmonary Disease (COPD) vary by state in the United States, and are there any significant geographic patterns or disparities?"
   ]
  },
  {
   "cell_type": "markdown",
   "id": "b7a54a71-09a0-4d0e-aaa1-da0ef2786005",
   "metadata": {},
   "source": [
    "# Problem Statement\n",
    "\n",
    "The prevalence of asthma and Chronic Obstructive Pulmonary Disease (COPD) presents significant public health concerns in the United States, with variations observed across different states. Understanding the geographic disparities in these respiratory conditions can provide insights into environmental, socioeconomic, and healthcare access factors that contribute to their prevalence. Given the increasing burden of respiratory diseases on health systems, it is essential to identify patterns that could inform targeted interventions and policy changes. This analysis hypothesizes that certain states will exhibit higher rates of asthma and COPD due to factors such as air quality, socioeconomic status, and access to healthcare services."
   ]
  },
  {
   "cell_type": "markdown",
   "id": "ac459c64-b36b-47d9-9348-94a03d43534c",
   "metadata": {},
   "source": [
    "# Data Description:\n",
    "\n",
    "United States Chronic Disease Indicators (CDI)\n",
    "Last Updated: March 9, 2024\n",
    "Source: CDC's Division of Population Health\n",
    "\n",
    "The U.S. Chronic Disease Indicators dataset provides a set of 115 public health indicators developed through a collaborative effort involving the CDC, the Council of State and Territorial Epidemiologists, and the National Association of Chronic Disease Directors. These indicators enable consistent collection, reporting, and analysis of chronic disease data at the state and territorial levels. The dataset is designed to support public health practice, offering state-specific data while serving as a gateway to additional health-related data and resources.\n",
    "\n",
    "The dataset is publicly accessible and available in multiple formats, including CSV, RDF, JSON, and XML, and I'll be accessing the CSV dataset that's available."
   ]
  },
  {
   "cell_type": "markdown",
   "id": "09cc1022-d44e-4036-8a32-3c9853dfa3fb",
   "metadata": {},
   "source": [
    "# Code\n",
    "## Examine the dataset\n",
    "Describe Methodology. Load the Dataset, check the data types, see the missing values, drop the columns are empty, make an analysis of the data\n",
    "### Import libraries"
   ]
  },
  {
   "cell_type": "code",
   "execution_count": null,
   "id": "7485c5b0-08b4-4d62-9501-e1e8d55fde82",
   "metadata": {},
   "outputs": [],
   "source": [
    "# Import the libraries\n",
    "import numpy as np                  # Numerical Python\n",
    "import pandas as pd                 # Data Analysis\n",
    "import matplotlib.pyplot as plt     # Plotting\n",
    "import seaborn as sns               # Statistical Data Visualization\n",
    "\n",
    "# Let's make sure pandas returns all the rows and columns for the dataframe\n",
    "pd.set_option('display.max_rows', None)\n",
    "pd.set_option('display.max_columns', None)\n",
    "\n",
    "# Force pandas to display full numbers instead of scientific notation\n",
    "#pd.options.display.float_format = '{:.0f}'.format\n",
    "\n",
    "# Library to suppress warnings\n",
    "import warnings\n",
    "warnings.filterwarnings('ignore')"
   ]
  },
  {
   "cell_type": "markdown",
   "id": "154dce95-79ce-4b12-afff-30a1377c72cd",
   "metadata": {},
   "source": [
    "## Read the dataset"
   ]
  },
  {
   "cell_type": "code",
   "execution_count": null,
   "id": "bb0549ac-a996-4a1a-97b7-af00f4753963",
   "metadata": {},
   "outputs": [],
   "source": [
    "# Read the dataset\n",
    "df = pd.read_csv('U.S._Chronic_Disease_Indicators.csv')"
   ]
  },
  {
   "cell_type": "markdown",
   "id": "c8f97318-c9d4-4618-90cd-34c021daee8a",
   "metadata": {},
   "source": [
    "## Understanding the dataset"
   ]
  },
  {
   "cell_type": "code",
   "execution_count": null,
   "id": "9f851046-dd2c-4706-8d71-954a016c8923",
   "metadata": {},
   "outputs": [],
   "source": [
    "# Checking first elements of the DataFrame with `.head( )` method\n",
    "df.head()\n",
    "\n",
    "# Checking how many columns are in the dataframe\n",
    "print('There are ' + str(df.columns))\n",
    "\n",
    "# Checking last elements of the DataFrame with `.tail( )` method\n",
    "df.tail()"
   ]
  },
  {
   "cell_type": "code",
   "execution_count": null,
   "id": "e47b54bd-da3a-4b2d-92a2-eb0628043d92",
   "metadata": {},
   "outputs": [],
   "source": [
    "# display the dimensions of the data\n",
    "# This is the number of rows and columns in the data\n",
    "# Syntax: DataFrame.shape\n",
    "df.shape"
   ]
  },
  {
   "cell_type": "code",
   "execution_count": null,
   "id": "55b219bf-c275-4f9a-8716-ab4ae33e878b",
   "metadata": {},
   "outputs": [],
   "source": [
    "# Let's check the basic information about the dataset\n",
    "# Syntax: DataFrame.info()\n",
    "df.info()"
   ]
  },
  {
   "cell_type": "markdown",
   "id": "071fed95-c71f-4488-bd14-e1662019632c",
   "metadata": {},
   "source": [
    "## Observations of the Data Set\n"
   ]
  }
 ],
 "metadata": {
  "kernelspec": {
   "display_name": "Python 3 (ipykernel)",
   "language": "python",
   "name": "python3"
  },
  "language_info": {
   "codemirror_mode": {
    "name": "ipython",
    "version": 3
   },
   "file_extension": ".py",
   "mimetype": "text/x-python",
   "name": "python",
   "nbconvert_exporter": "python",
   "pygments_lexer": "ipython3",
   "version": "3.12.4"
  }
 },
 "nbformat": 4,
 "nbformat_minor": 5
}
