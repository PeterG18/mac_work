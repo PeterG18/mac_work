{
 "cells": [
  {
   "cell_type": "code",
   "execution_count": 1,
   "id": "cd815c5b-549b-4aaa-8580-e7a013b11341",
   "metadata": {},
   "outputs": [],
   "source": [
    "import sqlite3\n",
    "import csv\n",
    "import numpy as np\n",
    "import pandas as pd"
   ]
  },
  {
   "cell_type": "markdown",
   "id": "8678f1fa-a1ea-4033-a032-4aae79445652",
   "metadata": {},
   "source": [
    "## Add a connection"
   ]
  },
  {
   "cell_type": "code",
   "execution_count": 6,
   "id": "3b51a88f-4b3b-4788-98f4-7ab98a8b1948",
   "metadata": {},
   "outputs": [],
   "source": [
    "conn = sqlite3.connect('energyindicators.sqlite')\n",
    "cur = conn.cursor()"
   ]
  },
  {
   "cell_type": "code",
   "execution_count": 8,
   "id": "2d430825-db9d-4faa-b1a3-3ec808be65d3",
   "metadata": {},
   "outputs": [
    {
     "data": {
      "text/plain": [
       "<sqlite3.Cursor at 0x12d5cb140>"
      ]
     },
     "execution_count": 8,
     "metadata": {},
     "output_type": "execute_result"
    }
   ],
   "source": [
    "cur.execute('''\n",
    "CREATE TABLE graduates(\n",
    "    id INTEGER PRIMARY KEY AUTOINCREMENT,\n",
    "    name TEXT,\n",
    "    graduated INTEGER,\n",
    "    school INTEGER\n",
    "    )\n",
    "    ''')"
   ]
  },
  {
   "cell_type": "code",
   "execution_count": null,
   "id": "16e7336d-dc0d-4f81-bccd-923bfb19299b",
   "metadata": {},
   "outputs": [],
   "source": [
    "cur.execute('''\n",
    "INSERT INTO "
   ]
  }
 ],
 "metadata": {
  "kernelspec": {
   "display_name": "Python 3 (ipykernel)",
   "language": "python",
   "name": "python3"
  },
  "language_info": {
   "codemirror_mode": {
    "name": "ipython",
    "version": 3
   },
   "file_extension": ".py",
   "mimetype": "text/x-python",
   "name": "python",
   "nbconvert_exporter": "python",
   "pygments_lexer": "ipython3",
   "version": "3.12.4"
  }
 },
 "nbformat": 4,
 "nbformat_minor": 5
}
