{
 "cells": [
  {
   "cell_type": "markdown",
   "id": "2367c362-796d-4971-b171-e8ce49c9e539",
   "metadata": {},
   "source": [
    "#### Peter Gansallo HW0\n",
    "#### Due 2-19-2025"
   ]
  },
  {
   "cell_type": "markdown",
   "id": "96454f2b-9948-4183-85e0-4033f2764960",
   "metadata": {},
   "source": [
    "## Task: Basic String functions"
   ]
  },
  {
   "cell_type": "code",
   "execution_count": 137,
   "id": "2e60edd6-9c18-4f47-a20a-92fcfb95ddd7",
   "metadata": {},
   "outputs": [],
   "source": [
    "passage = \"\"\"Ron Carter is a renowned American bassist, composer, and educator who has made significant contributions to\n",
    "jazz music. Born on August 5, 1937, in Philadelphia, Pennsylvania, Carter began playing the bass at the age of 14.\n",
    "He attended the prestigious Juilliard School in New York City, where he honed his skills and developed a unique\n",
    "playing style that blends technical proficiency with melodic sensibility.\\n\\n\n",
    "Throughout his career, Carter has collaborated with some of the most influential jazz musicians of all time, in-\n",
    "cluding Miles Davis, John Coltrane, Bill Evans, Herbie Hancock, and Thelonious Monk. He is perhaps best known\n",
    "for his work as the bassist on Davis’s iconic album “A Tribute to Jack Johnson,” as well as his contributions to\n",
    "the development of the modal jazz movement in the 1960s. Carter’s versatility and adaptability have made him a\n",
    "sought-after sideman, and he has played with a wide range of musicians across multiple genres.\\n\\n\n",
    "Carter is also an accomplished composer and arranger, having written music for numerous albums and film scores.\n",
    "His compositions often reflect his deep understanding of jazz harmony and form, as well as his ability to incorpo-\n",
    "rate elements of other musical traditions into his work. Some notable examples of Carter’s compositional output\n",
    "include the album “The Ron Carter Quartet” with pianist Herbie Hancock, and the soundtrack for the 1983 film “A\n",
    "Soldier’s Story,” which earned him an Academy Award nomination.\\n\\n\n",
    "In addition to his performance and composition career, Carter has also been recognized for his work as a teacher\n",
    "and educator. He has taught at several institutions, including Berklee College of Music and the Juilliard School,\n",
    "where he began his own bass technique program in 1975. Through his teaching, Carter has helped shape the careers\n",
    "of numerous talented young musicians, many of whom have gone on to become leading figures in their own right.\\n\\n\n",
    "Today, Ron Carter is widely regarded as one of the most respected and influential bassists in jazz history. His con-\n",
    "tributions to the genre have been recognized with numerous awards and accolades, including a Grammy Lifetime\n",
    "Achievement Award and induction into the DownBeat Jazz Hall of Fame. As a performer, composer, and educator,\n",
    "Carter continues to inspire new generations of musicians and fans alike, cementing his legacy as one of the most\n",
    "important figures in jazz history.\"\"\"\n",
    "\n",
    "passage = passage.lower()"
   ]
  },
  {
   "cell_type": "markdown",
   "id": "38a98770-b639-46d4-81ff-41d4ad434af2",
   "metadata": {},
   "source": [
    "See if the text comes out how intended"
   ]
  },
  {
   "cell_type": "code",
   "execution_count": 139,
   "id": "6a331a5f-0aa3-4891-a6c2-81276b8f68d7",
   "metadata": {},
   "outputs": [
    {
     "name": "stdout",
     "output_type": "stream",
     "text": [
      "ron carter is a renowned american bassist, composer, and educator who has made significant contributions to\n",
      "jazz music. born on august 5, 1937, in philadelphia, pennsylvania, carter began playing the bass at the age of 14.\n",
      "he attended the prestigious juilliard school in new york city, where he honed his skills and developed a unique\n",
      "playing style that blends technical proficiency with melodic sensibility.\n",
      "\n",
      "\n",
      "throughout his career, carter has collaborated with some of the most influential jazz musicians of all time, in-\n",
      "cluding miles davis, john coltrane, bill evans, herbie hancock, and thelonious monk. he is perhaps best known\n",
      "for his work as the bassist on davis’s iconic album “a tribute to jack johnson,” as well as his contributions to\n",
      "the development of the modal jazz movement in the 1960s. carter’s versatility and adaptability have made him a\n",
      "sought-after sideman, and he has played with a wide range of musicians across multiple genres.\n",
      "\n",
      "\n",
      "carter is also an accomplished composer and arranger, having written music for numerous albums and film scores.\n",
      "his compositions often reflect his deep understanding of jazz harmony and form, as well as his ability to incorpo-\n",
      "rate elements of other musical traditions into his work. some notable examples of carter’s compositional output\n",
      "include the album “the ron carter quartet” with pianist herbie hancock, and the soundtrack for the 1983 film “a\n",
      "soldier’s story,” which earned him an academy award nomination.\n",
      "\n",
      "\n",
      "in addition to his performance and composition career, carter has also been recognized for his work as a teacher\n",
      "and educator. he has taught at several institutions, including berklee college of music and the juilliard school,\n",
      "where he began his own bass technique program in 1975. through his teaching, carter has helped shape the careers\n",
      "of numerous talented young musicians, many of whom have gone on to become leading figures in their own right.\n",
      "\n",
      "\n",
      "today, ron carter is widely regarded as one of the most respected and influential bassists in jazz history. his con-\n",
      "tributions to the genre have been recognized with numerous awards and accolades, including a grammy lifetime\n",
      "achievement award and induction into the downbeat jazz hall of fame. as a performer, composer, and educator,\n",
      "carter continues to inspire new generations of musicians and fans alike, cementing his legacy as one of the most\n",
      "important figures in jazz history.\n"
     ]
    }
   ],
   "source": [
    "print(passage)"
   ]
  },
  {
   "cell_type": "code",
   "execution_count": 140,
   "id": "37ac65b7-8c65-494b-8cc1-10617926345a",
   "metadata": {},
   "outputs": [
    {
     "name": "stdout",
     "output_type": "stream",
     "text": [
      "31\n"
     ]
    }
   ],
   "source": [
    "# Print how many lines are in the passage*\n",
    "passage_lines = str.splitlines(passage)\n",
    "print(len(passage_lines))"
   ]
  },
  {
   "cell_type": "markdown",
   "id": "4bd99b81-a7dd-4ff1-8412-c3cc67fadb25",
   "metadata": {},
   "source": [
    "## Task: Advanced String functions"
   ]
  },
  {
   "cell_type": "code",
   "execution_count": 142,
   "id": "a5513d18-c7e4-4168-82a5-db62e5afb3b7",
   "metadata": {},
   "outputs": [],
   "source": [
    "#Change all the occurences of his with \"###\"\n",
    "replaced_passage = passage.replace(\" his \",\" ### \")"
   ]
  },
  {
   "cell_type": "code",
   "execution_count": 143,
   "id": "089e98d1-8c90-4f57-a7c9-2f86b96bde31",
   "metadata": {},
   "outputs": [
    {
     "name": "stdout",
     "output_type": "stream",
     "text": [
      "13\n"
     ]
    }
   ],
   "source": [
    "print(replaced_passage.count(\" ### \"))"
   ]
  },
  {
   "cell_type": "code",
   "execution_count": 144,
   "id": "a69b17d1-6a05-43cf-a08d-af9f8966251f",
   "metadata": {},
   "outputs": [
    {
     "name": "stdout",
     "output_type": "stream",
     "text": [
      "6\n"
     ]
    }
   ],
   "source": [
    "print(replaced_passage.count(\" jazz \"))"
   ]
  },
  {
   "cell_type": "markdown",
   "id": "93b8be19-3f24-4bc5-bc93-c195bcc4ee71",
   "metadata": {},
   "source": [
    "## Task: Sequence iteration"
   ]
  },
  {
   "cell_type": "markdown",
   "id": "99141a7b-9bbb-489c-a046-cb56e1876f8a",
   "metadata": {},
   "source": [
    "#### What does the .split() function do?\n",
    "The .split() function splits text by \" \", however you can change the parameter to not be empty and split\n",
    "on what ever character/characters you choose for it to split on and it returns it in a list.\n"
   ]
  },
  {
   "cell_type": "code",
   "execution_count": 147,
   "id": "62ae93dd-0f1c-4386-b6cb-43ead91ecba6",
   "metadata": {},
   "outputs": [],
   "source": [
    "# Get the paragraphs in the latest modified passage\n",
    "replaced_passage_para = replaced_passage.split(\"\\n\\n\")"
   ]
  },
  {
   "cell_type": "markdown",
   "id": "c0fdd7de-548c-4b63-a8a1-8b5905df07ed",
   "metadata": {},
   "source": [
    "Get the number of words in the first paragraph"
   ]
  },
  {
   "cell_type": "code",
   "execution_count": 149,
   "id": "82871317-7c61-4762-ac61-522866a80d71",
   "metadata": {},
   "outputs": [
    {
     "name": "stdout",
     "output_type": "stream",
     "text": [
      "408\n"
     ]
    }
   ],
   "source": [
    "print(len(replaced_passage_para[0]))"
   ]
  },
  {
   "cell_type": "markdown",
   "id": "4fd2b284-3cbf-4f5a-b641-16b742ece69d",
   "metadata": {},
   "source": [
    "#### Loop through words in first paragraph using split and find word occurences"
   ]
  },
  {
   "cell_type": "code",
   "execution_count": 151,
   "id": "48ecd868-c90b-4515-8644-f255580152c5",
   "metadata": {},
   "outputs": [
    {
     "name": "stdout",
     "output_type": "stream",
     "text": [
      "['playing', 'playing']\n"
     ]
    }
   ],
   "source": [
    "ing_words = []\n",
    "for word in replaced_passage_para[0].split():\n",
    "    if word[-3:] == \"ing\":\n",
    "        ing_words.append(word)\n",
    "print(ing_words)        "
   ]
  },
  {
   "cell_type": "markdown",
   "id": "62e65bab-b94d-44bc-9c50-bb795fcbde43",
   "metadata": {},
   "source": [
    "#### Words that end in \"er\""
   ]
  },
  {
   "cell_type": "code",
   "execution_count": 168,
   "id": "2f273179-87dc-4bc2-b090-c280f6fdc810",
   "metadata": {},
   "outputs": [
    {
     "name": "stdout",
     "output_type": "stream",
     "text": [
      "2\n"
     ]
    }
   ],
   "source": [
    "er_words = []\n",
    "for word in replaced_passage_para[0].split():\n",
    "    if word[-2:] == \"er\":\n",
    "        er_words.append(word)\n",
    "print(len(er_words))"
   ]
  },
  {
   "cell_type": "markdown",
   "id": "3b5a0774-9190-497e-a204-be170fdb3415",
   "metadata": {},
   "source": [
    "#### How many times carter appears in the paragraph"
   ]
  },
  {
   "cell_type": "code",
   "execution_count": 171,
   "id": "c68cab18-6991-4a4e-bf25-27b7f7b1dfae",
   "metadata": {},
   "outputs": [
    {
     "name": "stdout",
     "output_type": "stream",
     "text": [
      "2\n"
     ]
    }
   ],
   "source": [
    "print(replaced_passage_para[0].count(\"carter\"))"
   ]
  },
  {
   "cell_type": "code",
   "execution_count": null,
   "id": "e1acf29c-2b69-4fc2-80ef-774ac561fbfc",
   "metadata": {},
   "outputs": [],
   "source": []
  }
 ],
 "metadata": {
  "kernelspec": {
   "display_name": "Python 3 (ipykernel)",
   "language": "python",
   "name": "python3"
  },
  "language_info": {
   "codemirror_mode": {
    "name": "ipython",
    "version": 3
   },
   "file_extension": ".py",
   "mimetype": "text/x-python",
   "name": "python",
   "nbconvert_exporter": "python",
   "pygments_lexer": "ipython3",
   "version": "3.12.4"
  }
 },
 "nbformat": 4,
 "nbformat_minor": 5
}
