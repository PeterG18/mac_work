{
 "cells": [
  {
   "cell_type": "markdown",
   "metadata": {},
   "source": [
    "# DATA203 Foundational Python (Prof. Maull) / Spring 2025 / HW2"
   ]
  },
  {
   "cell_type": "markdown",
   "metadata": {},
   "source": [
    "| Points <br/>Possible | Due Date | Time Commitment <br/>(estimated) |\n",
    "|:---------------:|:--------:|:---------------:|\n",
    "| 25 | Sunday, March 23 | _up to_ 15 hours |\n",
    "\n",
    "\n",
    "* **GRADING:** Grading will be aligned with the completeness of the objectives.\n",
    "\n",
    "* **INDEPENDENT WORK:** Copying, cheating, plagiarism  and academic dishonesty _are not tolerated_ by University or course policy.  Please see the syllabus for the full departmental and University statement on the academic code of honor.\n",
    "\n",
    "## OBJECTIVES\n",
    "* Explore JupyterHub Python _shell_ commands inside cells\n",
    "\n",
    "* Understand and use functions to process data.\n",
    "\n",
    "* Understand and use dictionaries for complex data.\n",
    "\n",
    "* [BONUS]\n",
    "\n",
    "## WHAT TO TURN IN\n",
    "You are being encouraged to turn the assignment in using the provided\n",
    "Jupyter Notebook.  To do so, make a directory in your Lab environment called\n",
    "`homework/hw1`.   Put all of your files in that directory.  Then zip or tar that directory,\n",
    "rename it with your name as the first part of the filename (e.g. `maull_hw1_files.zip`, `maull_hw1_files.tar.gz`), then\n",
    "download it to your local machine, then upload the `.zip` to Canvas.\n",
    "\n",
    "If you do not know how to do this, please ask, or visit one of the many tutorials out there\n",
    "on the basics of using zip in Linux.  \n",
    "\n",
    "If you choose not to use the provided notebook, you will still need to turn in a\n",
    "`.ipynb` Jupyter Notebook and corresponding files according to the instructions in\n",
    "this homework."
   ]
  },
  {
   "cell_type": "markdown",
   "metadata": {},
   "source": [
    "## ASSIGNMENT TASKS\n",
    "### (0%) Explore JupyterHub Python _shell_ commands inside cells \n",
    "\n",
    "In the last time we learned to run the terminal console commands\n",
    "in JupyterLab, which is a great way to perform command-line tasks and is an essential tool\n",
    "for basic scripting that is part of a data scientist's toolkit.  Last time we used a \n",
    "terminal console in the lab environment\n",
    "this time we familiarize ourselves with Jupyter\n",
    "_shell_ escape commands **within** a notebook.\n",
    "\n",
    "Study:\n",
    "\n",
    "  * [Python Data Science Handbook: IPython and Shell Commands](https://jakevdp.github.io/PythonDataScienceHandbook/01.05-ipython-and-shell-commands.html)\n",
    "\n",
    "for full documentation on _shell_ ... they are **very** useful!\n",
    "\n",
    "**&#167; Task:**  **Use Jupyter _shell_ commands to perform the same commands as last time.**\n",
    "\n",
    "   Basic file operations go a long way to understand\n",
    "   the way Linux works.  In this part, you will understand\n",
    "   folders, files and making revisions to a file.  These files\n",
    "   will be visible within Jupyter, which makes moving from\n",
    "   one platform to another seamless.  We will create a folder, file\n",
    "   and make edits.             \n",
    "   \n",
    "   - type `!mkdir your_folder_name` to create a folder in filesystem _in the current folder where you are_\n",
    "   - create a file by type `touch README.md` the `touch` command creates a file if it does not already exist, otherwise it will change the timestamp of that file when it is \"touched\"\n",
    "   - edit the file in Jupyter with the text editor\n",
    "   - to see the contents of your file typing `!cat README.md` \n",
    "\n",
    "\n",
    "**&#167; Task:**  **Use _shell_ command `wget` to quickly obtain remote files in Linux** \n",
    "\n",
    "   As before get a remote file from the [Internet Archive](https://archive.org):\n",
    "\n",
    "   - in a cell type `!wget https://ia801306.us.archive.org/15/items/fouraddressesats00howa/fouraddressesats00howa.pdf`\n",
    "   - execute the cell\n",
    "   - verify the file was retrieved by opening it\n",
    "\n",
    "\n",
    "\n",
    "### (50%) Understand and use functions to process data. \n",
    "\n",
    "We learned in lecture that function are necessary\n",
    "tools in Python.\n",
    "\n",
    "I have provided a starter notebook for you to use, \n",
    "which will greatly enhance you ability to complete\n",
    "the assignment.  See that in the folder here.  The \n",
    "name of the notebook is `hw1/hw1_starter.ipynb`:\n",
    "\n",
    "* [https://github.com/kmhuads/s25_data203/tree/main/hw1/hw1_starter.ipynb](https://github.com/kmhuads/s25_data203/tree/main/hw1/hw1_starter.ipynb)\n",
    "\n",
    "You will notice the is a text file in `hw1/data/`:\n",
    "\n",
    "* [`data/countries.txt`](https://github.com/kmhuads/s25_data203/tree/main/hw1/data/countries.txt)\n",
    "\n",
    "I recommend you look at these files and see what is in \n",
    "them.  Text files form the basis of many data files \n",
    "that you will interact with in your future as a \n",
    "data scientist -- _maybe_ one day AI will take over our reliance\n",
    "to write just a little code to deal with them, but we will\n",
    "see ... but not today.\n",
    "\n",
    "In the notebook are some scaffolding code.  You will \n",
    "need to study it and use it in the solutions\n",
    "being asked."
   ]
  },
  {
   "cell_type": "markdown",
   "metadata": {},
   "source": [
    "**&#167; Task:**  **1.0: Practice explaining code.**\n",
    "\n",
    "Use the code in the first cell of the provided notebook and answer the question below:\n",
    "\n",
    "1. Explain in your own words what the cell is doing does.  Your explanation \n",
    "   will include the description of the inputs (if any), and you will need to\n",
    "   review the Python file I/O libraries and specifically [`readlines()`](https://docs.python.org/3/library/io.html#io.IOBase.readlines)\n",
    "   for details of the function.  "
   ]
  },
  {
   "cell_type": "code",
   "execution_count": 29,
   "metadata": {},
   "outputs": [
    {
     "name": "stdout",
     "output_type": "stream",
     "text": [
      "['Algeria\\n', 'Angola\\n', 'Benin\\n', 'Botswana\\n', 'Burkina Faso\\n', 'Burundi\\n', 'Cabo Verde\\n', 'Cameroon\\n', 'Central African Republic\\n', 'Chad\\n', 'Comoros\\n', 'Democratic Republic of the Congo\\n', 'Republic of the Congo\\n', \"Cote d'Ivoire\\n\", 'Djibouti\\n', 'Egypt\\n', 'Equatorial Guinea\\n', 'Eritrea\\n', 'Eswatini\\n', 'Ethiopia\\n', 'Gabon\\n', 'Gambia\\n', 'Ghana\\n', 'Guinea\\n', 'Guinea-Bissau\\n', 'Kenya\\n', 'Lesotho\\n', 'Liberia\\n', 'Libya\\n', 'Madagascar\\n', 'Malawi\\n', 'Mali\\n', 'Mauritania\\n', 'Mauritius\\n', 'Morocco\\n', 'Mozambique\\n', 'Namibia\\n', 'Niger\\n', 'Nigeria\\n', 'Rwanda\\n', 'Sao Tome and Principe\\n', 'Senegal\\n', 'Seychelles\\n', 'Sierra Leone\\n', 'Somalia\\n', 'South Africa\\n', 'South Sudan\\n', 'Sudan\\n', 'Tanzania\\n', 'Togo\\n', 'Tunisia\\n', 'Uganda\\n', 'Zambia\\n', 'Zimbabwe']\n"
     ]
    }
   ],
   "source": [
    "countries = []\n",
    "with open(\"counties.txt\") as f:\n",
    "    countries = f.readlines()\n",
    "print(countries)"
   ]
  },
  {
   "cell_type": "markdown",
   "metadata": {},
   "source": [
    "#### Task 1.0 Answer\n",
    "The readlines function reads each line of text in a file and returns a list of each line in the text, this cell opens the \"countries\" text file and assigns the value of the file to \"f\"  and the list of lines gets assigned to the countries variable"
   ]
  },
  {
   "cell_type": "markdown",
   "metadata": {},
   "source": [
    "#### **&#167; Task:**  **1.1:  Write a function that takes the `countries` list and returns the cleaned list.**\n",
    "\n",
    "In this task, you will enter into a new cell\n",
    "the function that takes a single parameter `countries_list`\n",
    "and returns the cleaned data.  By \"cleaned data\",\n",
    "your return list will not have any extraneous characters, spaces\n",
    "or newlines in it."
   ]
  },
  {
   "cell_type": "code",
   "execution_count": 35,
   "metadata": {},
   "outputs": [
    {
     "name": "stdout",
     "output_type": "stream",
     "text": [
      "['x', 'y', 'z']\n"
     ]
    }
   ],
   "source": [
    "def cleaned_list(countries):\n",
    "    for index, country in enumerate(countries):\n",
    "        if \"\\n\" in country:\n",
    "            countries[index] = country[:-1] \n",
    "    return countries\n",
    "    ## This function will be removing the last two characters of each line if the line contains the special characters that create a new line\n",
    "\n",
    "countries_cleaned = cleaned_list(countries)\n",
    "print(countries)"
   ]
  },
  {
   "cell_type": "markdown",
   "metadata": {},
   "source": [
    "#### **&#167; Task:**  **1.2: Write a function that takes two parameters `cstr` and `start_char` and returns `True` if the `cstr` starts with `start_char`, otherwise it returns `False`.**\n",
    "\n",
    "Just remember, there are many ways to solve this problem, but do not overthink it!"
   ]
  },
  {
   "cell_type": "code",
   "execution_count": 55,
   "metadata": {},
   "outputs": [],
   "source": [
    "def country_startswith(cstr, start_char):\n",
    "    len_start_char = len(start_char)\n",
    "    if cstr[0:len_start_char] == start_char:\n",
    "        return True\n",
    "    else:\n",
    "        return False\n",
    "    ## YOUR IMPLEMENTATION GOES HERE"
   ]
  },
  {
   "cell_type": "markdown",
   "metadata": {},
   "source": [
    "#### **&#167; Task:**  **1.3: Answer the questions.  Show your code in the notebook cells.**\n",
    "\n",
    "You can only obtain full credit if you show the _working_ Python code \n",
    "that solves the questions being asked.\n",
    "  \n",
    "1. How many countries start with `s`?\n",
    "1. Are there more countries that start with `m` than `t`, if so how many more?\n",
    "1. Show the function call that gives the number of countries that start with `m`."
   ]
  },
  {
   "cell_type": "code",
   "execution_count": 63,
   "metadata": {},
   "outputs": [
    {
     "name": "stdout",
     "output_type": "stream",
     "text": [
      "8 7 3\n"
     ]
    }
   ],
   "source": [
    "s_count = 0\n",
    "m_count = 0\n",
    "t_count = 0\n",
    "for country in countries:\n",
    "    if country_startswith(country.lower(),\"s\") == True:\n",
    "        s_count += 1\n",
    "\n",
    "    if country_startswith(country.lower(),\"m\") == True:\n",
    "        m_count += 1\n",
    "        \n",
    "    if country_startswith(country.lower(),\"t\") == True:\n",
    "        t_count += 1\n",
    "    \n",
    "print(s_count, m_count, t_count)\n",
    "\n"
   ]
  },
  {
   "cell_type": "markdown",
   "metadata": {},
   "source": [
    "#### 1.3 answer\n",
    "- 8 countries start with s\n",
    "- More countries start with m than t, there are 4 more countries that start with m than t"
   ]
  },
  {
   "cell_type": "markdown",
   "metadata": {},
   "source": [
    "### (50%) Understand and use dictionaries for complex data. \n",
    "\n",
    "\n",
    "\n",
    "We learned in lecture that dictionaries are very flexible\n",
    "data structures in Python.\n",
    "\n",
    "In the  same starter notebook, `hw1/hw1_starter.ipynb`:\n",
    "\n",
    "* [https://github.com/kmhuads/s25_data203/tree/main/hw1](https://github.com/kmhuads/s25_data203/tree/main/hw1)\n",
    "\n",
    "You will notice the is another text file in `hw1/data/countries_census.csv`:\n",
    "\n",
    "* [`data/countries_census.csv`](https://github.com/kmhuads/s25_data203/tree/main/hw1/data/countries_census.csv)\n",
    "\n",
    "This file has 3 columns: the country name, the population census and the percent population change (in that order)."
   ]
  },
  {
   "cell_type": "markdown",
   "metadata": {},
   "source": [
    "#### **&#167; Task:**  **2.0: Explain what the function `mystery_maker()` does.  Use the provided sample notebook file.**\n",
    "\n",
    "Explain in your own words what the function `mystery_maker()` in the cell below is doing.  Your explanation \n",
    "will include the description of the inputs (if any) and outputs. **Do not overthink it and run the function to \n",
    "study it's outputs!**"
   ]
  },
  {
   "cell_type": "code",
   "execution_count": 69,
   "metadata": {},
   "outputs": [],
   "source": [
    "def mystery_maker():\n",
    "    d_countries = {}\n",
    "    alpha = 'abcdefghijklmnopqrstuvwxyz'\n",
    "    \n",
    "    for c in alpha:\n",
    "        d_countries[c] = []\n",
    "\n",
    "    return d_countries"
   ]
  },
  {
   "cell_type": "markdown",
   "metadata": {},
   "source": [
    "**====>YOUR ANSWER WILL GO IN THIS MARKDOWN CELL<====**\n",
    "\n",
    "#### Answer\n",
    "d_countries set the variable to a empty dictionary, then for each character in the string alpha\n",
    "make that a key in the dictionary and set its value to be a empty list for each key."
   ]
  },
  {
   "cell_type": "markdown",
   "metadata": {},
   "source": [
    "#### **&#167; Task:**  **2.1: Follow the steps to complete the task.**\n",
    "  1.  Write the code that assigns a variable named `d_countries` to the execution of `mystery_maker`.\n",
    "  2.  In a single `for` loop, put all the countries from your `countries_cleaned` list above into the structure `d_countries`.\n",
    "  3. Print the result of d_countries.  Describe the output."
   ]
  },
  {
   "cell_type": "code",
   "execution_count": 83,
   "metadata": {},
   "outputs": [],
   "source": [
    "## code for #1\n",
    "d_countries = mystery_maker()"
   ]
  },
  {
   "cell_type": "code",
   "execution_count": 85,
   "metadata": {},
   "outputs": [],
   "source": [
    "## code for #2\n",
    "for key, val in d_countries.items():\n",
    "    for country in cleaned_countries:\n",
    "        if country_startswith(country.lower(), key) == True:\n",
    "            val.append(country)\n",
    "            d_countries[key] = val    "
   ]
  },
  {
   "cell_type": "code",
   "execution_count": 87,
   "metadata": {},
   "outputs": [
    {
     "name": "stdout",
     "output_type": "stream",
     "text": [
      "{'a': ['Algeria', 'Angola'], 'b': ['Benin', 'Botswana', 'Burkina Faso', 'Burundi'], 'c': ['Cabo Verde', 'Cameroon', 'Central African Republic', 'Chad', 'Comoros', \"Cote d'Ivoire\"], 'd': ['Democratic Republic of the Congo', 'Djibouti'], 'e': ['Egypt', 'Equatorial Guinea', 'Eritrea', 'Eswatini', 'Ethiopia'], 'f': [], 'g': ['Gabon', 'Gambia', 'Ghana', 'Guinea', 'Guinea-Bissau'], 'h': [], 'i': [], 'j': [], 'k': ['Kenya'], 'l': ['Lesotho', 'Liberia', 'Libya'], 'm': ['Madagascar', 'Malawi', 'Mali', 'Mauritania', 'Mauritius', 'Morocco', 'Mozambique'], 'n': ['Namibia', 'Niger', 'Nigeria'], 'o': [], 'p': [], 'q': [], 'r': ['Republic of the Congo', 'Rwanda'], 's': ['Sao Tome and Principe', 'Senegal', 'Seychelles', 'Sierra Leone', 'Somalia', 'South Africa', 'South Sudan', 'Sudan'], 't': ['Tanzania', 'Togo', 'Tunisia'], 'u': ['Uganda'], 'v': [], 'w': [], 'x': [], 'y': [], 'z': ['Zambia', 'Zimbabwe']}\n"
     ]
    }
   ],
   "source": [
    "## code for #3\n",
    "print(d_countries)"
   ]
  },
  {
   "cell_type": "markdown",
   "metadata": {},
   "source": [
    "### (0%) [BONUS] \n",
    "\n",
    "This task requires you to think a little, but it is much easier than you think.\n",
    "\n",
    "We stated before that the last column of our file is the growth rate of the country.  Your function \n",
    "will take a number (float) and minimally:\n",
    "\n",
    "0. take a single parameter `growth_rate`,\n",
    "1. load the file of country data (you may use code already written in your solutions above),\n",
    "2. filter just the data in the file where the last column of data is within 10% of the provided `growth_rate` (HINT: when you read the data, it will be a string, you will need to convert it to a number like this, if `v=\"12.3\"`, `float(v)` converts v to the number `12.3`).\n",
    "3. return the countries that were found, the returned data should be the list of those countries (e.g. `['Kenya', 'Uganda']`)\n",
    "\n",
    "This will require you to combine all your skills together.  You will need to \n",
    "use `for` loops, store data in variables and return data as lists.\n",
    "\n",
    "**GRADING**:\n",
    "\n",
    "* up to 5 BONUS points for this part of the assignment\n",
    "* PARTIAL SOLUTIONS WILL BE ACCEPTED, partial points will be awared accordingly\n",
    "* if you have the time and are up for the challenge, you don't have much to lose!\n",
    "\n",
    "#### **&#167; Task:**  **Implement the completed or partial solution.**"
   ]
  },
  {
   "cell_type": "code",
   "execution_count": null,
   "metadata": {},
   "outputs": [],
   "source": []
  }
 ],
 "metadata": {
  "anaconda-cloud": {},
  "kernelspec": {
   "display_name": "Python 3 (ipykernel)",
   "language": "python",
   "name": "python3"
  },
  "language_info": {
   "codemirror_mode": {
    "name": "ipython",
    "version": 3
   },
   "file_extension": ".py",
   "mimetype": "text/x-python",
   "name": "python",
   "nbconvert_exporter": "python",
   "pygments_lexer": "ipython3",
   "version": "3.12.4"
  },
  "toc": {
   "colors": {
    "hover_highlight": "#DAA520",
    "navigate_num": "#000000",
    "navigate_text": "#333333",
    "running_highlight": "#FF0000",
    "selected_highlight": "#FFD700",
    "sidebar_border": "#EEEEEE",
    "wrapper_background": "#FFFFFF"
   },
   "moveMenuLeft": true,
   "nav_menu": {
    "height": "12px",
    "width": "252px"
   },
   "navigate_menu": true,
   "number_sections": false,
   "sideBar": true,
   "threshold": "1",
   "toc_cell": false,
   "toc_section_display": "block",
   "toc_window_display": true,
   "widenNotebook": false
  }
 },
 "nbformat": 4,
 "nbformat_minor": 4
}
